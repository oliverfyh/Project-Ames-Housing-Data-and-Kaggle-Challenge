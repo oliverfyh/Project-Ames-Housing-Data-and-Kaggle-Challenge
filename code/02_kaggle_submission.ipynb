{
 "cells": [
  {
   "cell_type": "markdown",
   "metadata": {},
   "source": [
    "<img src=\"http://imgur.com/1ZcRyrc.png\" style=\"float: left; margin: 20px; height: 55px\">\n",
    "\n",
    "# Project: Ames Housing Data and Kaggle Challenge\n"
   ]
  },
  {
   "cell_type": "markdown",
   "metadata": {},
   "source": [
    "# Kaggle Submission"
   ]
  },
  {
   "cell_type": "markdown",
   "metadata": {},
   "source": [
    "## This notebook is to:\n",
    "1. clean the test data:\n",
    "    - handle null data \n",
    "    - encode non-numeric features \n",
    "2. proudce y_test_pridect by our production model\n",
    "3. output our prediction with correct format for kaggle submissions"
   ]
  },
  {
   "cell_type": "markdown",
   "metadata": {},
   "source": [
    "## 1. Import libraries"
   ]
  },
  {
   "cell_type": "code",
   "execution_count": 35,
   "metadata": {},
   "outputs": [],
   "source": [
    "# Imports:\n",
    "import numpy as np\n",
    "import pandas as pd\n",
    "import matplotlib.pyplot as plt\n",
    "import seaborn as sns\n",
    "from sklearn.model_selection import GridSearchCV\n",
    "import pickle\n",
    "\n",
    "get_ipython().run_line_magic('matplotlib', 'inline')\n",
    "\n",
    "#pd.options.display.max_columns = None\n",
    "#pd.options.display.max_rows = None\n"
   ]
  },
  {
   "cell_type": "markdown",
   "metadata": {},
   "source": [
    "## 2. Import product model and neccissary objects "
   ]
  },
  {
   "cell_type": "code",
   "execution_count": 36,
   "metadata": {},
   "outputs": [
    {
     "name": "stdout",
     "output_type": "stream",
     "text": [
      "{'features_numeric': ['Lot Area', 'Mas Vnr Area', 'BsmtFin SF 1', 'Year Built', 'Year Remod/Add', 'BsmtFin SF 2', 'Bsmt Unf SF', 'Total Bsmt SF', '1st Flr SF', '2nd Flr SF', 'Low Qual Fin SF', 'Gr Liv Area', 'Bsmt Full Bath', 'Bsmt Half Bath', 'Full Bath', 'Half Bath', 'Bedroom AbvGr', 'Kitchen AbvGr', 'TotRms AbvGrd', 'Fireplaces', 'Garage Yr Blt', 'Garage Cars', 'Garage Area', 'Wood Deck SF', 'Open Porch SF', 'Enclosed Porch', '3Ssn Porch', 'Screen Porch', 'Pool Area', 'Misc Val', 'Mo Sold', 'Yr Sold'], 'features_categorical': ['MS SubClass', 'Sale Type', 'Garage Type', 'Central Air', 'Heating', 'Foundation', 'Mas Vnr Type', 'Exterior 2nd', 'Exterior 1st', 'Roof Matl', 'Roof Style', 'House Style', 'Bldg Type', 'Condition 2', 'Condition 1', 'Lot Config', 'Land Contour', 'Street', 'MS Zoning'], 'features_ordinal': ['Paved Drive', 'Garage Cond', 'Garage Qual', 'Garage Finish', 'Functional', 'Kitchen Qual', 'Electrical', 'Heating QC', 'BsmtFin Type 2', 'BsmtFin Type 1', 'Bsmt Exposure', 'Bsmt Cond', 'Bsmt Qual', 'Exter Cond', 'Exter Qual', 'Land Slope', 'Utilities', 'Lot Shape', 'Overall Qual', 'Overall Cond'], 'ordinal_cols_mapping_target_encoding': {'Paved Drive': {'N': 101000.0, 'P': 124450.0, 'Y': 165000.0}, 'Garage Cond': {'Ex': 124000.0, 'Fa': 110000.0, 'Gd': 148000.0, 'NA': 102000.0, 'Po': 106000.0, 'TA': 165150.0}, 'Garage Qual': {'Ex': 124000.0, 'Fa': 113000.0, 'Gd': 180000.0, 'NA': 102000.0, 'Po': 65000.0, 'TA': 165750.0}, 'Garage Finish': {'Fin': 206300.0, 'NA': 102000.0, 'RFn': 188250.0, 'Unf': 134500.0}, 'Functional': {'Maj1': 135750.0, 'Maj2': 68104.0, 'Min1': 145250.0, 'Min2': 142900.0, 'Mod': 122000.0, 'Sal': 50000.0, 'Sev': 62500.0, 'Typ': 160750.0}, 'Kitchen Qual': {'Ex': 317250.0, 'Fa': 97275.0, 'Gd': 196000.0, 'TA': 135000.0}, 'Electrical': {'FuseA': 122250.0, 'FuseF': 105000.0, 'FuseP': 75000.0, 'Mix': 67000.0, 'SBrkr': 165000.0}, 'Heating QC': {'Ex': 191000.0, 'Fa': 111000.0, 'Gd': 149625.0, 'Po': 97000.0, 'TA': 133600.0}, 'BsmtFin Type 2': {'ALQ': 160000.0, 'BLQ': 138750.0, 'GLQ': 198625.0, 'LwQ': 154000.0, 'NA': 98000.0, 'Rec': 150000.0, 'Unf': 162500.0}, 'BsmtFin Type 1': {'ALQ': 150000.0, 'BLQ': 138500.0, 'GLQ': 212250.0, 'LwQ': 138200.0, 'NA': 98000.0, 'Rec': 131625.0, 'Unf': 154500.0}, 'Bsmt Exposure': {'Av': 183500.0, 'Gd': 228000.0, 'Mn': 163000.0, 'NA': 100900.0, 'No': 149425.0}, 'Bsmt Cond': {'Ex': 160000.0, 'Fa': 114750.0, 'Gd': 202080.0, 'NA': 98000.0, 'Po': 94550.0, 'TA': 160125.0}, 'Bsmt Qual': {'Ex': 312750.0, 'Fa': 102000.0, 'Gd': 188500.0, 'NA': 98000.0, 'Po': 89000.0, 'TA': 135000.0}, 'Exter Cond': {'Ex': 161000.0, 'Fa': 90750.0, 'Gd': 147500.0, 'Po': 76500.0, 'TA': 163000.0}, 'Exter Qual': {'Ex': 338000.0, 'Fa': 85000.0, 'Gd': 213370.0, 'TA': 137900.0}, 'Land Slope': {'Gtl': 158000.0, 'Mod': 173000.0, 'Sev': 119240.0}, 'Utilities': {'AllPub': 158500.0, 'NoSeWa': 137500.0}, 'Lot Shape': {'IR1': 185875.0, 'IR2': 207500.0, 'IR3': 201500.0, 'Reg': 144000.0}, 'Overall Qual': {1: 50150.0, 2: 60000.0, 3: 79950.0, 4: 105000.0, 5: 132500.0, 6: 158000.0, 7: 195000.0, 8: 262500.0, 9: 335000.0, 10: 426000.0}, 'Overall Cond': {1: 61750.0, 2: 76500.0, 3: 91500.0, 4: 107000.0, 5: 184100.0, 6: 141000.0, 7: 140000.0, 8: 143000.0, 9: 155000.0}}, 'categorical_cols_mapping_target_encoding': {'MS SubClass': {20: 157000.0, 30: 99650.0, 40: 122500.0, 45: 113000.0, 50: 128900.0, 60: 212554.5, 70: 146500.0, 75: 132000.0, 80: 165000.0, 85: 150950.0, 90: 128600.0, 120: 194700.0, 150: 148400.0, 160: 138000.0, 180: 105000.0, 190: 119750.0}, 'Sale Type': {'COD': 126000.0, 'CWD': 158000.0, 'Con': 261615.0, 'ConLD': 135000.0, 'ConLI': 119000.0, 'ConLw': 95000.0, 'New': 237837.5, 'Oth': 137050.0, 'WD ': 155000.0}, 'Garage Type': {'2Types': 148250.0, 'Attchd': 182900.0, 'Basment': 145000.0, 'BuiltIn': 214450.0, 'CarPort': 98400.0, 'Detchd': 128550.0, 'NA': 101000.0}, 'Central Air': {'N': 96000.0, 'Y': 164600.0}, 'Heating': {'GasA': 159697.5, 'GasW': 127500.0, 'Grav': 65750.0, 'OthW': 125750.0, 'Wall': 90000.0}, 'Foundation': {'BrkTil': 124900.0, 'CBlock': 139500.0, 'PConc': 203000.0, 'Slab': 99900.0, 'Stone': 118000.0, 'Wood': 173750.0}, 'Mas Vnr Type': {'BrkCmn': 139000.0, 'BrkFace': 184000.0, 'None': 142500.0, 'Stone': 241000.0}, 'Exterior 2nd': {'AsbShng': 111500.0, 'AsphShn': 139000.0, 'Brk Cmn': 147000.0, 'BrkFace': 159500.0, 'CBlock': 92000.0, 'CmentBd': 233424.0, 'HdBoard': 154602.0, 'ImStucc': 192000.0, 'MetalSd': 136500.0, 'Plywood': 150000.0, 'Stone': 93500.0, 'Stucco': 136000.0, 'VinylSd': 199500.0, 'Wd Sdng': 134250.0, 'Wd Shng': 139000.0}, 'Exterior 1st': {'AsbShng': 111500.0, 'AsphShn': 82375.0, 'BrkComm': 158000.0, 'BrkFace': 159750.0, 'CBlock': 105000.0, 'CemntBd': 236500.0, 'HdBoard': 153500.0, 'ImStucc': 262000.0, 'MetalSd': 136500.0, 'Plywood': 152500.0, 'Stone': 230000.0, 'Stucco': 136000.0, 'VinylSd': 199250.0, 'Wd Sdng': 132250.0, 'WdShing': 134716.0}, 'Roof Matl': {'CompShg': 158225.0, 'Tar&Grv': 164500.0, 'WdShake': 238750.0, 'WdShngl': 278000.0}, 'Roof Style': {'Flat': 164000.0, 'Gable': 157000.0, 'Gambrel': 125250.0, 'Hip': 166250.0, 'Mansard': 139000.0, 'Shed': 157000.0}, 'House Style': {'1.5Fin': 128500.0, '1.5Unf': 113000.0, '1Story': 153250.0, '2.5Fin': 147500.0, '2.5Unf': 164000.0, '2Story': 186450.0, 'SFoyer': 147500.0, 'SLvl': 164500.0}, 'Bldg Type': {'1Fam': 160000.0, '2fmCon': 119300.0, 'Duplex': 128600.0, 'Twnhs': 135500.0, 'TwnhsE': 184500.0}, 'Condition 2': {'Artery': 118000.0, 'Feedr': 127500.0, 'Norm': 159000.0, 'PosA': 423500.0, 'PosN': 401000.0, 'RRAn': 136905.0, 'RRNn': 96750.0}, 'Condition 1': {'Artery': 115500.0, 'Feedr': 138750.0, 'Norm': 163250.0, 'PosA': 220000.0, 'PosN': 212500.0, 'RRAe': 143200.0, 'RRAn': 165750.0, 'RRNe': 126000.0, 'RRNn': 184000.0}, 'Lot Config': {'Corner': 157000.0, 'CulDSac': 193000.0, 'FR2': 160500.0, 'FR3': 207000.0, 'Inside': 156716.0}, 'Land Contour': {'Bnk': 132000.0, 'HLS': 216000.0, 'Low': 155000.0, 'Lvl': 158000.0}, 'Street': {'Grvl': 85925.0, 'Pave': 159000.0}, 'MS Zoning': {'C (all)': 75000.0, 'FV': 208600.0, 'RH': 145000.0, 'RL': 168000.0, 'RM': 122375.0}}, 'features_final': ['Heating QC', 'MS SubClass', 'Garage Finish', 'Open Porch SF', 'Total Bsmt SF', 'Bsmt Exposure', 'Fireplaces', 'Exterior 1st', 'Gr Liv Area', 'BsmtFin Type 1', 'Overall Cond', 'Garage Cars', 'BsmtFin SF 1', 'Foundation', 'Mas Vnr Area', 'Overall Qual'], 'production model': GridSearchCV(cv=5,\n",
      "             estimator=Pipeline(steps=[('scaler', RobustScaler()),\n",
      "                                       ('classifier', Lasso())]),\n",
      "             param_grid={'classifier__alpha': array([1.00000000e-01, 1.09749877e-01, 1.20450354e-01, 1.32194115e-01,\n",
      "       1.45082878e-01, 1.59228279e-01, 1.74752840e-01, 1.91791026e-01,\n",
      "       2.10490414e-01, 2.31012970e-01, 2.53536449e-01, 2.78255940e-01,\n",
      "       3.05385551e-01, 3.35160265e-01, 3.6783...\n",
      "       1.17681195e+02, 1.29154967e+02, 1.41747416e+02, 1.55567614e+02,\n",
      "       1.70735265e+02, 1.87381742e+02, 2.05651231e+02, 2.25701972e+02,\n",
      "       2.47707636e+02, 2.71858824e+02, 2.98364724e+02, 3.27454916e+02,\n",
      "       3.59381366e+02, 3.94420606e+02, 4.32876128e+02, 4.75081016e+02,\n",
      "       5.21400829e+02, 5.72236766e+02, 6.28029144e+02, 6.89261210e+02,\n",
      "       7.56463328e+02, 8.30217568e+02, 9.11162756e+02, 1.00000000e+03])},\n",
      "             scoring='neg_mean_absolute_error')}\n"
     ]
    }
   ],
   "source": [
    "#read pickle_dict, which store everything\n",
    "pickle_dict = pickle.load(open('../datasets/data.pkl', 'rb'))\n",
    "print(pickle_dict)"
   ]
  },
  {
   "cell_type": "code",
   "execution_count": 37,
   "metadata": {},
   "outputs": [
    {
     "name": "stdout",
     "output_type": "stream",
     "text": [
      "['Lot Area', 'Mas Vnr Area', 'BsmtFin SF 1', 'Year Built', 'Year Remod/Add', 'BsmtFin SF 2', 'Bsmt Unf SF', 'Total Bsmt SF', '1st Flr SF', '2nd Flr SF', 'Low Qual Fin SF', 'Gr Liv Area', 'Bsmt Full Bath', 'Bsmt Half Bath', 'Full Bath', 'Half Bath', 'Bedroom AbvGr', 'Kitchen AbvGr', 'TotRms AbvGrd', 'Fireplaces', 'Garage Yr Blt', 'Garage Cars', 'Garage Area', 'Wood Deck SF', 'Open Porch SF', 'Enclosed Porch', '3Ssn Porch', 'Screen Porch', 'Pool Area', 'Misc Val', 'Mo Sold', 'Yr Sold']\n"
     ]
    }
   ],
   "source": [
    "#import features_numeric\n",
    "features_numeric = pickle_dict['features_numeric']\n",
    "print(features_numeric)"
   ]
  },
  {
   "cell_type": "code",
   "execution_count": 38,
   "metadata": {},
   "outputs": [
    {
     "name": "stdout",
     "output_type": "stream",
     "text": [
      "['MS SubClass', 'Sale Type', 'Garage Type', 'Central Air', 'Heating', 'Foundation', 'Mas Vnr Type', 'Exterior 2nd', 'Exterior 1st', 'Roof Matl', 'Roof Style', 'House Style', 'Bldg Type', 'Condition 2', 'Condition 1', 'Lot Config', 'Land Contour', 'Street', 'MS Zoning']\n"
     ]
    }
   ],
   "source": [
    "#import features_categorical\n",
    "features_categorical = pickle_dict['features_categorical']\n",
    "print(features_categorical)"
   ]
  },
  {
   "cell_type": "code",
   "execution_count": 39,
   "metadata": {},
   "outputs": [
    {
     "name": "stdout",
     "output_type": "stream",
     "text": [
      "['Paved Drive', 'Garage Cond', 'Garage Qual', 'Garage Finish', 'Functional', 'Kitchen Qual', 'Electrical', 'Heating QC', 'BsmtFin Type 2', 'BsmtFin Type 1', 'Bsmt Exposure', 'Bsmt Cond', 'Bsmt Qual', 'Exter Cond', 'Exter Qual', 'Land Slope', 'Utilities', 'Lot Shape', 'Overall Qual', 'Overall Cond']\n"
     ]
    }
   ],
   "source": [
    "#import features_features_ordinal\n",
    "features_ordinal = pickle_dict['features_ordinal']\n",
    "print(features_ordinal)"
   ]
  },
  {
   "cell_type": "code",
   "execution_count": 40,
   "metadata": {},
   "outputs": [
    {
     "name": "stdout",
     "output_type": "stream",
     "text": [
      "['Heating QC', 'MS SubClass', 'Garage Finish', 'Open Porch SF', 'Total Bsmt SF', 'Bsmt Exposure', 'Fireplaces', 'Exterior 1st', 'Gr Liv Area', 'BsmtFin Type 1', 'Overall Cond', 'Garage Cars', 'BsmtFin SF 1', 'Foundation', 'Mas Vnr Area', 'Overall Qual']\n"
     ]
    }
   ],
   "source": [
    "#import features_final\n",
    "features_final = pickle_dict['features_final']\n",
    "print(features_final)"
   ]
  },
  {
   "cell_type": "code",
   "execution_count": 41,
   "metadata": {},
   "outputs": [
    {
     "name": "stdout",
     "output_type": "stream",
     "text": [
      "{'Paved Drive': {'N': 101000.0, 'P': 124450.0, 'Y': 165000.0}, 'Garage Cond': {'Ex': 124000.0, 'Fa': 110000.0, 'Gd': 148000.0, 'NA': 102000.0, 'Po': 106000.0, 'TA': 165150.0}, 'Garage Qual': {'Ex': 124000.0, 'Fa': 113000.0, 'Gd': 180000.0, 'NA': 102000.0, 'Po': 65000.0, 'TA': 165750.0}, 'Garage Finish': {'Fin': 206300.0, 'NA': 102000.0, 'RFn': 188250.0, 'Unf': 134500.0}, 'Functional': {'Maj1': 135750.0, 'Maj2': 68104.0, 'Min1': 145250.0, 'Min2': 142900.0, 'Mod': 122000.0, 'Sal': 50000.0, 'Sev': 62500.0, 'Typ': 160750.0}, 'Kitchen Qual': {'Ex': 317250.0, 'Fa': 97275.0, 'Gd': 196000.0, 'TA': 135000.0}, 'Electrical': {'FuseA': 122250.0, 'FuseF': 105000.0, 'FuseP': 75000.0, 'Mix': 67000.0, 'SBrkr': 165000.0}, 'Heating QC': {'Ex': 191000.0, 'Fa': 111000.0, 'Gd': 149625.0, 'Po': 97000.0, 'TA': 133600.0}, 'BsmtFin Type 2': {'ALQ': 160000.0, 'BLQ': 138750.0, 'GLQ': 198625.0, 'LwQ': 154000.0, 'NA': 98000.0, 'Rec': 150000.0, 'Unf': 162500.0}, 'BsmtFin Type 1': {'ALQ': 150000.0, 'BLQ': 138500.0, 'GLQ': 212250.0, 'LwQ': 138200.0, 'NA': 98000.0, 'Rec': 131625.0, 'Unf': 154500.0}, 'Bsmt Exposure': {'Av': 183500.0, 'Gd': 228000.0, 'Mn': 163000.0, 'NA': 100900.0, 'No': 149425.0}, 'Bsmt Cond': {'Ex': 160000.0, 'Fa': 114750.0, 'Gd': 202080.0, 'NA': 98000.0, 'Po': 94550.0, 'TA': 160125.0}, 'Bsmt Qual': {'Ex': 312750.0, 'Fa': 102000.0, 'Gd': 188500.0, 'NA': 98000.0, 'Po': 89000.0, 'TA': 135000.0}, 'Exter Cond': {'Ex': 161000.0, 'Fa': 90750.0, 'Gd': 147500.0, 'Po': 76500.0, 'TA': 163000.0}, 'Exter Qual': {'Ex': 338000.0, 'Fa': 85000.0, 'Gd': 213370.0, 'TA': 137900.0}, 'Land Slope': {'Gtl': 158000.0, 'Mod': 173000.0, 'Sev': 119240.0}, 'Utilities': {'AllPub': 158500.0, 'NoSeWa': 137500.0}, 'Lot Shape': {'IR1': 185875.0, 'IR2': 207500.0, 'IR3': 201500.0, 'Reg': 144000.0}, 'Overall Qual': {1: 50150.0, 2: 60000.0, 3: 79950.0, 4: 105000.0, 5: 132500.0, 6: 158000.0, 7: 195000.0, 8: 262500.0, 9: 335000.0, 10: 426000.0}, 'Overall Cond': {1: 61750.0, 2: 76500.0, 3: 91500.0, 4: 107000.0, 5: 184100.0, 6: 141000.0, 7: 140000.0, 8: 143000.0, 9: 155000.0}}\n"
     ]
    }
   ],
   "source": [
    "#import the encoding mapping for features_features_ordinal\n",
    "ordinal_cols_mapping_target_encoding = pickle_dict['ordinal_cols_mapping_target_encoding']\n",
    "print(ordinal_cols_mapping_target_encoding)"
   ]
  },
  {
   "cell_type": "code",
   "execution_count": 42,
   "metadata": {},
   "outputs": [
    {
     "name": "stdout",
     "output_type": "stream",
     "text": [
      "{'MS SubClass': {20: 157000.0, 30: 99650.0, 40: 122500.0, 45: 113000.0, 50: 128900.0, 60: 212554.5, 70: 146500.0, 75: 132000.0, 80: 165000.0, 85: 150950.0, 90: 128600.0, 120: 194700.0, 150: 148400.0, 160: 138000.0, 180: 105000.0, 190: 119750.0}, 'Sale Type': {'COD': 126000.0, 'CWD': 158000.0, 'Con': 261615.0, 'ConLD': 135000.0, 'ConLI': 119000.0, 'ConLw': 95000.0, 'New': 237837.5, 'Oth': 137050.0, 'WD ': 155000.0}, 'Garage Type': {'2Types': 148250.0, 'Attchd': 182900.0, 'Basment': 145000.0, 'BuiltIn': 214450.0, 'CarPort': 98400.0, 'Detchd': 128550.0, 'NA': 101000.0}, 'Central Air': {'N': 96000.0, 'Y': 164600.0}, 'Heating': {'GasA': 159697.5, 'GasW': 127500.0, 'Grav': 65750.0, 'OthW': 125750.0, 'Wall': 90000.0}, 'Foundation': {'BrkTil': 124900.0, 'CBlock': 139500.0, 'PConc': 203000.0, 'Slab': 99900.0, 'Stone': 118000.0, 'Wood': 173750.0}, 'Mas Vnr Type': {'BrkCmn': 139000.0, 'BrkFace': 184000.0, 'None': 142500.0, 'Stone': 241000.0}, 'Exterior 2nd': {'AsbShng': 111500.0, 'AsphShn': 139000.0, 'Brk Cmn': 147000.0, 'BrkFace': 159500.0, 'CBlock': 92000.0, 'CmentBd': 233424.0, 'HdBoard': 154602.0, 'ImStucc': 192000.0, 'MetalSd': 136500.0, 'Plywood': 150000.0, 'Stone': 93500.0, 'Stucco': 136000.0, 'VinylSd': 199500.0, 'Wd Sdng': 134250.0, 'Wd Shng': 139000.0}, 'Exterior 1st': {'AsbShng': 111500.0, 'AsphShn': 82375.0, 'BrkComm': 158000.0, 'BrkFace': 159750.0, 'CBlock': 105000.0, 'CemntBd': 236500.0, 'HdBoard': 153500.0, 'ImStucc': 262000.0, 'MetalSd': 136500.0, 'Plywood': 152500.0, 'Stone': 230000.0, 'Stucco': 136000.0, 'VinylSd': 199250.0, 'Wd Sdng': 132250.0, 'WdShing': 134716.0}, 'Roof Matl': {'CompShg': 158225.0, 'Tar&Grv': 164500.0, 'WdShake': 238750.0, 'WdShngl': 278000.0}, 'Roof Style': {'Flat': 164000.0, 'Gable': 157000.0, 'Gambrel': 125250.0, 'Hip': 166250.0, 'Mansard': 139000.0, 'Shed': 157000.0}, 'House Style': {'1.5Fin': 128500.0, '1.5Unf': 113000.0, '1Story': 153250.0, '2.5Fin': 147500.0, '2.5Unf': 164000.0, '2Story': 186450.0, 'SFoyer': 147500.0, 'SLvl': 164500.0}, 'Bldg Type': {'1Fam': 160000.0, '2fmCon': 119300.0, 'Duplex': 128600.0, 'Twnhs': 135500.0, 'TwnhsE': 184500.0}, 'Condition 2': {'Artery': 118000.0, 'Feedr': 127500.0, 'Norm': 159000.0, 'PosA': 423500.0, 'PosN': 401000.0, 'RRAn': 136905.0, 'RRNn': 96750.0}, 'Condition 1': {'Artery': 115500.0, 'Feedr': 138750.0, 'Norm': 163250.0, 'PosA': 220000.0, 'PosN': 212500.0, 'RRAe': 143200.0, 'RRAn': 165750.0, 'RRNe': 126000.0, 'RRNn': 184000.0}, 'Lot Config': {'Corner': 157000.0, 'CulDSac': 193000.0, 'FR2': 160500.0, 'FR3': 207000.0, 'Inside': 156716.0}, 'Land Contour': {'Bnk': 132000.0, 'HLS': 216000.0, 'Low': 155000.0, 'Lvl': 158000.0}, 'Street': {'Grvl': 85925.0, 'Pave': 159000.0}, 'MS Zoning': {'C (all)': 75000.0, 'FV': 208600.0, 'RH': 145000.0, 'RL': 168000.0, 'RM': 122375.0}}\n"
     ]
    }
   ],
   "source": [
    "#import the encoding mapping for features_features_categorical\n",
    "categorical_cols_mapping_target_encoding= pickle_dict['categorical_cols_mapping_target_encoding']\n",
    "print(categorical_cols_mapping_target_encoding)"
   ]
  },
  {
   "cell_type": "code",
   "execution_count": 43,
   "metadata": {},
   "outputs": [
    {
     "name": "stdout",
     "output_type": "stream",
     "text": [
      "GridSearchCV(cv=5,\n",
      "             estimator=Pipeline(steps=[('scaler', RobustScaler()),\n",
      "                                       ('classifier', Lasso())]),\n",
      "             param_grid={'classifier__alpha': array([1.00000000e-01, 1.09749877e-01, 1.20450354e-01, 1.32194115e-01,\n",
      "       1.45082878e-01, 1.59228279e-01, 1.74752840e-01, 1.91791026e-01,\n",
      "       2.10490414e-01, 2.31012970e-01, 2.53536449e-01, 2.78255940e-01,\n",
      "       3.05385551e-01, 3.35160265e-01, 3.6783...\n",
      "       1.17681195e+02, 1.29154967e+02, 1.41747416e+02, 1.55567614e+02,\n",
      "       1.70735265e+02, 1.87381742e+02, 2.05651231e+02, 2.25701972e+02,\n",
      "       2.47707636e+02, 2.71858824e+02, 2.98364724e+02, 3.27454916e+02,\n",
      "       3.59381366e+02, 3.94420606e+02, 4.32876128e+02, 4.75081016e+02,\n",
      "       5.21400829e+02, 5.72236766e+02, 6.28029144e+02, 6.89261210e+02,\n",
      "       7.56463328e+02, 8.30217568e+02, 9.11162756e+02, 1.00000000e+03])},\n",
      "             scoring='neg_mean_absolute_error')\n"
     ]
    }
   ],
   "source": [
    "#import model\n",
    "gs = pickle_dict['production model']\n",
    "print(gs)"
   ]
  },
  {
   "cell_type": "markdown",
   "metadata": {},
   "source": [
    "## 3. Data Import and Cleaning\n"
   ]
  },
  {
   "cell_type": "code",
   "execution_count": 44,
   "metadata": {
    "scrolled": true
   },
   "outputs": [
    {
     "data": {
      "text/html": [
       "<div>\n",
       "<style scoped>\n",
       "    .dataframe tbody tr th:only-of-type {\n",
       "        vertical-align: middle;\n",
       "    }\n",
       "\n",
       "    .dataframe tbody tr th {\n",
       "        vertical-align: top;\n",
       "    }\n",
       "\n",
       "    .dataframe thead th {\n",
       "        text-align: right;\n",
       "    }\n",
       "</style>\n",
       "<table border=\"1\" class=\"dataframe\">\n",
       "  <thead>\n",
       "    <tr style=\"text-align: right;\">\n",
       "      <th></th>\n",
       "      <th>Id</th>\n",
       "      <th>PID</th>\n",
       "      <th>MS SubClass</th>\n",
       "      <th>MS Zoning</th>\n",
       "      <th>Lot Frontage</th>\n",
       "      <th>Lot Area</th>\n",
       "      <th>Street</th>\n",
       "      <th>Alley</th>\n",
       "      <th>Lot Shape</th>\n",
       "      <th>Land Contour</th>\n",
       "      <th>...</th>\n",
       "      <th>3Ssn Porch</th>\n",
       "      <th>Screen Porch</th>\n",
       "      <th>Pool Area</th>\n",
       "      <th>Pool QC</th>\n",
       "      <th>Fence</th>\n",
       "      <th>Misc Feature</th>\n",
       "      <th>Misc Val</th>\n",
       "      <th>Mo Sold</th>\n",
       "      <th>Yr Sold</th>\n",
       "      <th>Sale Type</th>\n",
       "    </tr>\n",
       "  </thead>\n",
       "  <tbody>\n",
       "    <tr>\n",
       "      <th>0</th>\n",
       "      <td>2658</td>\n",
       "      <td>902301120</td>\n",
       "      <td>190</td>\n",
       "      <td>RM</td>\n",
       "      <td>69.0</td>\n",
       "      <td>9142</td>\n",
       "      <td>Pave</td>\n",
       "      <td>Grvl</td>\n",
       "      <td>Reg</td>\n",
       "      <td>Lvl</td>\n",
       "      <td>...</td>\n",
       "      <td>0</td>\n",
       "      <td>0</td>\n",
       "      <td>0</td>\n",
       "      <td>NaN</td>\n",
       "      <td>NaN</td>\n",
       "      <td>NaN</td>\n",
       "      <td>0</td>\n",
       "      <td>4</td>\n",
       "      <td>2006</td>\n",
       "      <td>WD</td>\n",
       "    </tr>\n",
       "    <tr>\n",
       "      <th>1</th>\n",
       "      <td>2718</td>\n",
       "      <td>905108090</td>\n",
       "      <td>90</td>\n",
       "      <td>RL</td>\n",
       "      <td>NaN</td>\n",
       "      <td>9662</td>\n",
       "      <td>Pave</td>\n",
       "      <td>NaN</td>\n",
       "      <td>IR1</td>\n",
       "      <td>Lvl</td>\n",
       "      <td>...</td>\n",
       "      <td>0</td>\n",
       "      <td>0</td>\n",
       "      <td>0</td>\n",
       "      <td>NaN</td>\n",
       "      <td>NaN</td>\n",
       "      <td>NaN</td>\n",
       "      <td>0</td>\n",
       "      <td>8</td>\n",
       "      <td>2006</td>\n",
       "      <td>WD</td>\n",
       "    </tr>\n",
       "    <tr>\n",
       "      <th>2</th>\n",
       "      <td>2414</td>\n",
       "      <td>528218130</td>\n",
       "      <td>60</td>\n",
       "      <td>RL</td>\n",
       "      <td>58.0</td>\n",
       "      <td>17104</td>\n",
       "      <td>Pave</td>\n",
       "      <td>NaN</td>\n",
       "      <td>IR1</td>\n",
       "      <td>Lvl</td>\n",
       "      <td>...</td>\n",
       "      <td>0</td>\n",
       "      <td>0</td>\n",
       "      <td>0</td>\n",
       "      <td>NaN</td>\n",
       "      <td>NaN</td>\n",
       "      <td>NaN</td>\n",
       "      <td>0</td>\n",
       "      <td>9</td>\n",
       "      <td>2006</td>\n",
       "      <td>New</td>\n",
       "    </tr>\n",
       "    <tr>\n",
       "      <th>3</th>\n",
       "      <td>1989</td>\n",
       "      <td>902207150</td>\n",
       "      <td>30</td>\n",
       "      <td>RM</td>\n",
       "      <td>60.0</td>\n",
       "      <td>8520</td>\n",
       "      <td>Pave</td>\n",
       "      <td>NaN</td>\n",
       "      <td>Reg</td>\n",
       "      <td>Lvl</td>\n",
       "      <td>...</td>\n",
       "      <td>0</td>\n",
       "      <td>0</td>\n",
       "      <td>0</td>\n",
       "      <td>NaN</td>\n",
       "      <td>NaN</td>\n",
       "      <td>NaN</td>\n",
       "      <td>0</td>\n",
       "      <td>7</td>\n",
       "      <td>2007</td>\n",
       "      <td>WD</td>\n",
       "    </tr>\n",
       "    <tr>\n",
       "      <th>4</th>\n",
       "      <td>625</td>\n",
       "      <td>535105100</td>\n",
       "      <td>20</td>\n",
       "      <td>RL</td>\n",
       "      <td>NaN</td>\n",
       "      <td>9500</td>\n",
       "      <td>Pave</td>\n",
       "      <td>NaN</td>\n",
       "      <td>IR1</td>\n",
       "      <td>Lvl</td>\n",
       "      <td>...</td>\n",
       "      <td>0</td>\n",
       "      <td>185</td>\n",
       "      <td>0</td>\n",
       "      <td>NaN</td>\n",
       "      <td>NaN</td>\n",
       "      <td>NaN</td>\n",
       "      <td>0</td>\n",
       "      <td>7</td>\n",
       "      <td>2009</td>\n",
       "      <td>WD</td>\n",
       "    </tr>\n",
       "  </tbody>\n",
       "</table>\n",
       "<p>5 rows × 80 columns</p>\n",
       "</div>"
      ],
      "text/plain": [
       "     Id        PID  MS SubClass MS Zoning  Lot Frontage  Lot Area Street  \\\n",
       "0  2658  902301120          190        RM          69.0      9142   Pave   \n",
       "1  2718  905108090           90        RL           NaN      9662   Pave   \n",
       "2  2414  528218130           60        RL          58.0     17104   Pave   \n",
       "3  1989  902207150           30        RM          60.0      8520   Pave   \n",
       "4   625  535105100           20        RL           NaN      9500   Pave   \n",
       "\n",
       "  Alley Lot Shape Land Contour  ... 3Ssn Porch Screen Porch Pool Area Pool QC  \\\n",
       "0  Grvl       Reg          Lvl  ...          0            0         0     NaN   \n",
       "1   NaN       IR1          Lvl  ...          0            0         0     NaN   \n",
       "2   NaN       IR1          Lvl  ...          0            0         0     NaN   \n",
       "3   NaN       Reg          Lvl  ...          0            0         0     NaN   \n",
       "4   NaN       IR1          Lvl  ...          0          185         0     NaN   \n",
       "\n",
       "  Fence Misc Feature Misc Val Mo Sold  Yr Sold  Sale Type  \n",
       "0   NaN          NaN        0       4     2006        WD   \n",
       "1   NaN          NaN        0       8     2006        WD   \n",
       "2   NaN          NaN        0       9     2006        New  \n",
       "3   NaN          NaN        0       7     2007        WD   \n",
       "4   NaN          NaN        0       7     2009        WD   \n",
       "\n",
       "[5 rows x 80 columns]"
      ]
     },
     "execution_count": 44,
     "metadata": {},
     "output_type": "execute_result"
    }
   ],
   "source": [
    "# read the files\n",
    "df_test = pd.read_csv(\"../datasets/test.csv\")\n",
    "df_test.head()"
   ]
  },
  {
   "cell_type": "code",
   "execution_count": 45,
   "metadata": {},
   "outputs": [
    {
     "data": {
      "text/plain": [
       "(878, 80)"
      ]
     },
     "execution_count": 45,
     "metadata": {},
     "output_type": "execute_result"
    }
   ],
   "source": [
    "df=df_test\n",
    "df.shape"
   ]
  },
  {
   "cell_type": "code",
   "execution_count": 46,
   "metadata": {
    "scrolled": true
   },
   "outputs": [
    {
     "name": "stdout",
     "output_type": "stream",
     "text": [
      "<class 'pandas.core.frame.DataFrame'>\n",
      "RangeIndex: 878 entries, 0 to 877\n",
      "Data columns (total 80 columns):\n",
      " #   Column           Non-Null Count  Dtype  \n",
      "---  ------           --------------  -----  \n",
      " 0   Id               878 non-null    int64  \n",
      " 1   PID              878 non-null    int64  \n",
      " 2   MS SubClass      878 non-null    int64  \n",
      " 3   MS Zoning        878 non-null    object \n",
      " 4   Lot Frontage     718 non-null    float64\n",
      " 5   Lot Area         878 non-null    int64  \n",
      " 6   Street           878 non-null    object \n",
      " 7   Alley            58 non-null     object \n",
      " 8   Lot Shape        878 non-null    object \n",
      " 9   Land Contour     878 non-null    object \n",
      " 10  Utilities        878 non-null    object \n",
      " 11  Lot Config       878 non-null    object \n",
      " 12  Land Slope       878 non-null    object \n",
      " 13  Neighborhood     878 non-null    object \n",
      " 14  Condition 1      878 non-null    object \n",
      " 15  Condition 2      878 non-null    object \n",
      " 16  Bldg Type        878 non-null    object \n",
      " 17  House Style      878 non-null    object \n",
      " 18  Overall Qual     878 non-null    int64  \n",
      " 19  Overall Cond     878 non-null    int64  \n",
      " 20  Year Built       878 non-null    int64  \n",
      " 21  Year Remod/Add   878 non-null    int64  \n",
      " 22  Roof Style       878 non-null    object \n",
      " 23  Roof Matl        878 non-null    object \n",
      " 24  Exterior 1st     878 non-null    object \n",
      " 25  Exterior 2nd     878 non-null    object \n",
      " 26  Mas Vnr Type     877 non-null    object \n",
      " 27  Mas Vnr Area     877 non-null    float64\n",
      " 28  Exter Qual       878 non-null    object \n",
      " 29  Exter Cond       878 non-null    object \n",
      " 30  Foundation       878 non-null    object \n",
      " 31  Bsmt Qual        853 non-null    object \n",
      " 32  Bsmt Cond        853 non-null    object \n",
      " 33  Bsmt Exposure    853 non-null    object \n",
      " 34  BsmtFin Type 1   853 non-null    object \n",
      " 35  BsmtFin SF 1     878 non-null    int64  \n",
      " 36  BsmtFin Type 2   853 non-null    object \n",
      " 37  BsmtFin SF 2     878 non-null    int64  \n",
      " 38  Bsmt Unf SF      878 non-null    int64  \n",
      " 39  Total Bsmt SF    878 non-null    int64  \n",
      " 40  Heating          878 non-null    object \n",
      " 41  Heating QC       878 non-null    object \n",
      " 42  Central Air      878 non-null    object \n",
      " 43  Electrical       877 non-null    object \n",
      " 44  1st Flr SF       878 non-null    int64  \n",
      " 45  2nd Flr SF       878 non-null    int64  \n",
      " 46  Low Qual Fin SF  878 non-null    int64  \n",
      " 47  Gr Liv Area      878 non-null    int64  \n",
      " 48  Bsmt Full Bath   878 non-null    int64  \n",
      " 49  Bsmt Half Bath   878 non-null    int64  \n",
      " 50  Full Bath        878 non-null    int64  \n",
      " 51  Half Bath        878 non-null    int64  \n",
      " 52  Bedroom AbvGr    878 non-null    int64  \n",
      " 53  Kitchen AbvGr    878 non-null    int64  \n",
      " 54  Kitchen Qual     878 non-null    object \n",
      " 55  TotRms AbvGrd    878 non-null    int64  \n",
      " 56  Functional       878 non-null    object \n",
      " 57  Fireplaces       878 non-null    int64  \n",
      " 58  Fireplace Qu     456 non-null    object \n",
      " 59  Garage Type      834 non-null    object \n",
      " 60  Garage Yr Blt    833 non-null    float64\n",
      " 61  Garage Finish    833 non-null    object \n",
      " 62  Garage Cars      878 non-null    int64  \n",
      " 63  Garage Area      878 non-null    int64  \n",
      " 64  Garage Qual      833 non-null    object \n",
      " 65  Garage Cond      833 non-null    object \n",
      " 66  Paved Drive      878 non-null    object \n",
      " 67  Wood Deck SF     878 non-null    int64  \n",
      " 68  Open Porch SF    878 non-null    int64  \n",
      " 69  Enclosed Porch   878 non-null    int64  \n",
      " 70  3Ssn Porch       878 non-null    int64  \n",
      " 71  Screen Porch     878 non-null    int64  \n",
      " 72  Pool Area        878 non-null    int64  \n",
      " 73  Pool QC          4 non-null      object \n",
      " 74  Fence            172 non-null    object \n",
      " 75  Misc Feature     41 non-null     object \n",
      " 76  Misc Val         878 non-null    int64  \n",
      " 77  Mo Sold          878 non-null    int64  \n",
      " 78  Yr Sold          878 non-null    int64  \n",
      " 79  Sale Type        878 non-null    object \n",
      "dtypes: float64(3), int64(35), object(42)\n",
      "memory usage: 548.9+ KB\n"
     ]
    }
   ],
   "source": [
    "df.info()"
   ]
  },
  {
   "cell_type": "markdown",
   "metadata": {},
   "source": []
  },
  {
   "cell_type": "markdown",
   "metadata": {},
   "source": [
    "### checking null values"
   ]
  },
  {
   "cell_type": "code",
   "execution_count": 47,
   "metadata": {
    "scrolled": true
   },
   "outputs": [
    {
     "data": {
      "text/plain": [
       "Pool QC          0.995444\n",
       "Misc Feature     0.953303\n",
       "Alley            0.933941\n",
       "Fence            0.804100\n",
       "Fireplace Qu     0.480638\n",
       "                   ...   \n",
       "Bsmt Unf SF      0.000000\n",
       "Total Bsmt SF    0.000000\n",
       "PID              0.000000\n",
       "Heating QC       0.000000\n",
       "Sale Type        0.000000\n",
       "Length: 80, dtype: float64"
      ]
     },
     "execution_count": 47,
     "metadata": {},
     "output_type": "execute_result"
    }
   ],
   "source": [
    "#checking and printing the % of null value for each feature\n",
    "(df.isnull().sum()/len(df)).sort_values(ascending=False)"
   ]
  },
  {
   "cell_type": "code",
   "execution_count": 48,
   "metadata": {},
   "outputs": [],
   "source": [
    "#drop the columns mentioned above\n",
    "df.drop(columns=['Pool QC','Misc Feature','Alley','Fence','Fireplace Qu','Lot Frontage'],inplace=True)\n"
   ]
  },
  {
   "cell_type": "markdown",
   "metadata": {},
   "source": [
    "**handle the features with some null values**"
   ]
  },
  {
   "cell_type": "code",
   "execution_count": 49,
   "metadata": {
    "scrolled": true
   },
   "outputs": [
    {
     "data": {
      "text/plain": [
       "Garage Cond      45\n",
       "Garage Yr Blt    45\n",
       "Garage Finish    45\n",
       "Garage Qual      45\n",
       "Garage Type      44\n",
       "                 ..\n",
       "BsmtFin SF 2      0\n",
       "Bsmt Unf SF       0\n",
       "PID               0\n",
       "Heating           0\n",
       "Sale Type         0\n",
       "Length: 74, dtype: int64"
      ]
     },
     "execution_count": 49,
     "metadata": {},
     "output_type": "execute_result"
    }
   ],
   "source": [
    "#print out the number of null values for each feature \n",
    "df.isnull().sum().sort_values(ascending=False)"
   ]
  },
  {
   "cell_type": "markdown",
   "metadata": {},
   "source": [
    "#### impute zero for numeric columns"
   ]
  },
  {
   "cell_type": "code",
   "execution_count": 50,
   "metadata": {
    "scrolled": true
   },
   "outputs": [
    {
     "data": {
      "text/plain": [
       "Garage Yr Blt      45\n",
       "Mas Vnr Area        1\n",
       "Lot Area            0\n",
       "Mo Sold             0\n",
       "Misc Val            0\n",
       "Pool Area           0\n",
       "Screen Porch        0\n",
       "3Ssn Porch          0\n",
       "Enclosed Porch      0\n",
       "Open Porch SF       0\n",
       "Wood Deck SF        0\n",
       "Garage Area         0\n",
       "Garage Cars         0\n",
       "Fireplaces          0\n",
       "TotRms AbvGrd       0\n",
       "Kitchen AbvGr       0\n",
       "Bedroom AbvGr       0\n",
       "Half Bath           0\n",
       "Full Bath           0\n",
       "Bsmt Half Bath      0\n",
       "Bsmt Full Bath      0\n",
       "Gr Liv Area         0\n",
       "Low Qual Fin SF     0\n",
       "2nd Flr SF          0\n",
       "1st Flr SF          0\n",
       "Total Bsmt SF       0\n",
       "Bsmt Unf SF         0\n",
       "BsmtFin SF 2        0\n",
       "Year Remod/Add      0\n",
       "Year Built          0\n",
       "BsmtFin SF 1        0\n",
       "Yr Sold             0\n",
       "dtype: int64"
      ]
     },
     "execution_count": 50,
     "metadata": {},
     "output_type": "execute_result"
    }
   ],
   "source": [
    "#list out the null value for each numeric features\n",
    "df[features_numeric].isnull().sum().sort_values(ascending=False)"
   ]
  },
  {
   "cell_type": "code",
   "execution_count": 51,
   "metadata": {
    "scrolled": true
   },
   "outputs": [
    {
     "data": {
      "text/plain": [
       "Lot Area           0\n",
       "Mas Vnr Area       0\n",
       "Mo Sold            0\n",
       "Misc Val           0\n",
       "Pool Area          0\n",
       "Screen Porch       0\n",
       "3Ssn Porch         0\n",
       "Enclosed Porch     0\n",
       "Open Porch SF      0\n",
       "Wood Deck SF       0\n",
       "Garage Area        0\n",
       "Garage Cars        0\n",
       "Garage Yr Blt      0\n",
       "Fireplaces         0\n",
       "TotRms AbvGrd      0\n",
       "Kitchen AbvGr      0\n",
       "Bedroom AbvGr      0\n",
       "Half Bath          0\n",
       "Full Bath          0\n",
       "Bsmt Half Bath     0\n",
       "Bsmt Full Bath     0\n",
       "Gr Liv Area        0\n",
       "Low Qual Fin SF    0\n",
       "2nd Flr SF         0\n",
       "1st Flr SF         0\n",
       "Total Bsmt SF      0\n",
       "Bsmt Unf SF        0\n",
       "BsmtFin SF 2       0\n",
       "Year Remod/Add     0\n",
       "Year Built         0\n",
       "BsmtFin SF 1       0\n",
       "Yr Sold            0\n",
       "dtype: int64"
      ]
     },
     "execution_count": 51,
     "metadata": {},
     "output_type": "execute_result"
    }
   ],
   "source": [
    "#impute those null value with zero\n",
    "df.loc[:,features_numeric]=df[features_numeric].fillna(0)\n",
    "df[features_numeric].isnull().sum().sort_values(ascending=False)"
   ]
  },
  {
   "cell_type": "markdown",
   "metadata": {},
   "source": [
    "**imputing ordinal features**\n"
   ]
  },
  {
   "cell_type": "code",
   "execution_count": 52,
   "metadata": {},
   "outputs": [
    {
     "data": {
      "text/plain": [
       "Garage Qual       45\n",
       "Garage Finish     45\n",
       "Garage Cond       45\n",
       "Bsmt Exposure     25\n",
       "BsmtFin Type 2    25\n",
       "BsmtFin Type 1    25\n",
       "Bsmt Cond         25\n",
       "Bsmt Qual         25\n",
       "Electrical         1\n",
       "Exter Qual         0\n",
       "Overall Qual       0\n",
       "Lot Shape          0\n",
       "Utilities          0\n",
       "Land Slope         0\n",
       "Paved Drive        0\n",
       "Exter Cond         0\n",
       "Heating QC         0\n",
       "Kitchen Qual       0\n",
       "Functional         0\n",
       "Overall Cond       0\n",
       "dtype: int64"
      ]
     },
     "execution_count": 52,
     "metadata": {},
     "output_type": "execute_result"
    }
   ],
   "source": [
    "#list out the null value for each ordinal features\n",
    "df[features_ordinal].isnull().sum().sort_values(ascending=False)"
   ]
  },
  {
   "cell_type": "code",
   "execution_count": 53,
   "metadata": {},
   "outputs": [
    {
     "data": {
      "text/plain": [
       "Paved Drive       0\n",
       "Garage Cond       0\n",
       "Overall Qual      0\n",
       "Lot Shape         0\n",
       "Utilities         0\n",
       "Land Slope        0\n",
       "Exter Qual        0\n",
       "Exter Cond        0\n",
       "Bsmt Qual         0\n",
       "Bsmt Cond         0\n",
       "Bsmt Exposure     0\n",
       "BsmtFin Type 1    0\n",
       "BsmtFin Type 2    0\n",
       "Heating QC        0\n",
       "Electrical        0\n",
       "Kitchen Qual      0\n",
       "Functional        0\n",
       "Garage Finish     0\n",
       "Garage Qual       0\n",
       "Overall Cond      0\n",
       "dtype: int64"
      ]
     },
     "execution_count": 53,
     "metadata": {},
     "output_type": "execute_result"
    }
   ],
   "source": [
    "#impute those null value with \"NA\" or \"Mix\", based on the data directory\n",
    "df['Garage Qual']=df['Garage Qual'].fillna(\"NA\")\n",
    "df['Garage Finish']=df['Garage Finish'].fillna(\"NA\")\n",
    "df['Garage Cond']=df['Garage Cond'].fillna(\"NA\")\n",
    "df['Bsmt Exposure']=df['Bsmt Exposure'].fillna(\"NA\")\n",
    "df['BsmtFin Type 2']=df['BsmtFin Type 2'].fillna(\"NA\")\n",
    "df['BsmtFin Type 1']=df['BsmtFin Type 1'].fillna(\"NA\")\n",
    "df['Bsmt Cond']=df['Bsmt Cond'].fillna(\"NA\")\n",
    "df['Bsmt Qual']=df['Bsmt Qual'].fillna(\"NA\")\n",
    "df['Electrical']=df['Electrical'].fillna(\"Mix\")\n",
    "\n",
    "df[features_ordinal].isnull().sum().sort_values(ascending=False)"
   ]
  },
  {
   "cell_type": "markdown",
   "metadata": {},
   "source": [
    "### imputing categorical features"
   ]
  },
  {
   "cell_type": "code",
   "execution_count": 54,
   "metadata": {},
   "outputs": [
    {
     "data": {
      "text/plain": [
       "Garage Type     44\n",
       "Mas Vnr Type     1\n",
       "MS SubClass      0\n",
       "House Style      0\n",
       "Street           0\n",
       "Land Contour     0\n",
       "Lot Config       0\n",
       "Condition 1      0\n",
       "Condition 2      0\n",
       "Bldg Type        0\n",
       "Roof Matl        0\n",
       "Roof Style       0\n",
       "Sale Type        0\n",
       "Exterior 1st     0\n",
       "Exterior 2nd     0\n",
       "Foundation       0\n",
       "Heating          0\n",
       "Central Air      0\n",
       "MS Zoning        0\n",
       "dtype: int64"
      ]
     },
     "execution_count": 54,
     "metadata": {},
     "output_type": "execute_result"
    }
   ],
   "source": [
    "#list out the null value for each categorical features\n",
    "df[features_categorical].isnull().sum().sort_values(ascending=False)"
   ]
  },
  {
   "cell_type": "code",
   "execution_count": 55,
   "metadata": {
    "scrolled": true
   },
   "outputs": [
    {
     "data": {
      "text/plain": [
       "MS SubClass     0\n",
       "Roof Style      0\n",
       "Street          0\n",
       "Land Contour    0\n",
       "Lot Config      0\n",
       "Condition 1     0\n",
       "Condition 2     0\n",
       "Bldg Type       0\n",
       "House Style     0\n",
       "Roof Matl       0\n",
       "Sale Type       0\n",
       "Exterior 1st    0\n",
       "Exterior 2nd    0\n",
       "Mas Vnr Type    0\n",
       "Foundation      0\n",
       "Heating         0\n",
       "Central Air     0\n",
       "Garage Type     0\n",
       "MS Zoning       0\n",
       "dtype: int64"
      ]
     },
     "execution_count": 55,
     "metadata": {},
     "output_type": "execute_result"
    }
   ],
   "source": [
    "#impute those null value with \"NA\" or \"Mix\", based on the data directory\n",
    "df['Garage Type']=df['Garage Type'].fillna(\"NA\")\n",
    "df['Mas Vnr Type']=df['Mas Vnr Type'].fillna(\"None\")\n",
    "df[features_categorical].isnull().sum().sort_values(ascending=False)"
   ]
  },
  {
   "cell_type": "code",
   "execution_count": 56,
   "metadata": {
    "scrolled": true
   },
   "outputs": [
    {
     "data": {
      "text/plain": [
       "Id               0\n",
       "Fireplaces       0\n",
       "TotRms AbvGrd    0\n",
       "Kitchen Qual     0\n",
       "Kitchen AbvGr    0\n",
       "                ..\n",
       "Mas Vnr Type     0\n",
       "Exterior 2nd     0\n",
       "Exterior 1st     0\n",
       "Roof Matl        0\n",
       "Sale Type        0\n",
       "Length: 74, dtype: int64"
      ]
     },
     "execution_count": 56,
     "metadata": {},
     "output_type": "execute_result"
    }
   ],
   "source": [
    "#double check if the still null value\n",
    "df.isnull().sum().sort_values(ascending=False)"
   ]
  },
  {
   "cell_type": "markdown",
   "metadata": {},
   "source": [
    "### encode features_ordinal"
   ]
  },
  {
   "cell_type": "code",
   "execution_count": 57,
   "metadata": {},
   "outputs": [],
   "source": [
    "\n",
    "df = df.replace(ordinal_cols_mapping_target_encoding)"
   ]
  },
  {
   "cell_type": "code",
   "execution_count": 58,
   "metadata": {},
   "outputs": [
    {
     "name": "stdout",
     "output_type": "stream",
     "text": [
      "<class 'pandas.core.frame.DataFrame'>\n",
      "RangeIndex: 878 entries, 0 to 877\n",
      "Data columns (total 20 columns):\n",
      " #   Column          Non-Null Count  Dtype  \n",
      "---  ------          --------------  -----  \n",
      " 0   Paved Drive     878 non-null    float64\n",
      " 1   Garage Cond     878 non-null    float64\n",
      " 2   Garage Qual     878 non-null    float64\n",
      " 3   Garage Finish   878 non-null    float64\n",
      " 4   Functional      878 non-null    float64\n",
      " 5   Kitchen Qual    878 non-null    object \n",
      " 6   Electrical      878 non-null    float64\n",
      " 7   Heating QC      878 non-null    float64\n",
      " 8   BsmtFin Type 2  878 non-null    float64\n",
      " 9   BsmtFin Type 1  878 non-null    float64\n",
      " 10  Bsmt Exposure   878 non-null    float64\n",
      " 11  Bsmt Cond       878 non-null    float64\n",
      " 12  Bsmt Qual       878 non-null    float64\n",
      " 13  Exter Cond      878 non-null    float64\n",
      " 14  Exter Qual      878 non-null    float64\n",
      " 15  Land Slope      878 non-null    float64\n",
      " 16  Utilities       878 non-null    object \n",
      " 17  Lot Shape       878 non-null    float64\n",
      " 18  Overall Qual    878 non-null    float64\n",
      " 19  Overall Cond    878 non-null    float64\n",
      "dtypes: float64(18), object(2)\n",
      "memory usage: 137.3+ KB\n"
     ]
    }
   ],
   "source": [
    "#checking if any errors after encoding\n",
    "df[features_ordinal].info()"
   ]
  },
  {
   "cell_type": "code",
   "execution_count": 59,
   "metadata": {},
   "outputs": [
    {
     "name": "stdout",
     "output_type": "stream",
     "text": [
      "All ordinal features required by our model have been encoded and now of type float64\n"
     ]
    }
   ],
   "source": [
    "print(\"All ordinal features required by our model have been encoded and now of type float64\")"
   ]
  },
  {
   "cell_type": "markdown",
   "metadata": {},
   "source": [
    "### encode features_categorical"
   ]
  },
  {
   "cell_type": "code",
   "execution_count": 60,
   "metadata": {},
   "outputs": [],
   "source": [
    "df = df.replace(categorical_cols_mapping_target_encoding)"
   ]
  },
  {
   "cell_type": "code",
   "execution_count": 61,
   "metadata": {},
   "outputs": [
    {
     "name": "stdout",
     "output_type": "stream",
     "text": [
      "<class 'pandas.core.frame.DataFrame'>\n",
      "RangeIndex: 878 entries, 0 to 877\n",
      "Data columns (total 19 columns):\n",
      " #   Column        Non-Null Count  Dtype  \n",
      "---  ------        --------------  -----  \n",
      " 0   MS SubClass   878 non-null    float64\n",
      " 1   Sale Type     878 non-null    object \n",
      " 2   Garage Type   878 non-null    float64\n",
      " 3   Central Air   878 non-null    float64\n",
      " 4   Heating       878 non-null    object \n",
      " 5   Foundation    878 non-null    float64\n",
      " 6   Mas Vnr Type  878 non-null    object \n",
      " 7   Exterior 2nd  878 non-null    object \n",
      " 8   Exterior 1st  878 non-null    object \n",
      " 9   Roof Matl     878 non-null    object \n",
      " 10  Roof Style    878 non-null    float64\n",
      " 11  House Style   878 non-null    float64\n",
      " 12  Bldg Type     878 non-null    float64\n",
      " 13  Condition 2   878 non-null    float64\n",
      " 14  Condition 1   878 non-null    float64\n",
      " 15  Lot Config    878 non-null    float64\n",
      " 16  Land Contour  878 non-null    float64\n",
      " 17  Street        878 non-null    float64\n",
      " 18  MS Zoning     878 non-null    object \n",
      "dtypes: float64(12), object(7)\n",
      "memory usage: 130.5+ KB\n"
     ]
    }
   ],
   "source": [
    "#checking if any errors after encoding\n",
    "df[features_categorical].info()"
   ]
  },
  {
   "cell_type": "code",
   "execution_count": 62,
   "metadata": {},
   "outputs": [
    {
     "name": "stdout",
     "output_type": "stream",
     "text": [
      "'Exterior 1st' is required by our model, but it still has string value\n"
     ]
    }
   ],
   "source": [
    "print(\"'Exterior 1st' is required by our model, but it still has string value\")"
   ]
  },
  {
   "cell_type": "code",
   "execution_count": 63,
   "metadata": {},
   "outputs": [
    {
     "data": {
      "text/plain": [
       "199250.0    302\n",
       "132250.0    144\n",
       "153500.0    142\n",
       "136500.0    119\n",
       "152500.0     69\n",
       "236500.0     35\n",
       "159750.0     24\n",
       "136000.0     16\n",
       "111500.0     11\n",
       "134716.0     11\n",
       "158000.0      3\n",
       "PreCast       1\n",
       "82375.0       1\n",
       "Name: Exterior 1st, dtype: int64"
      ]
     },
     "execution_count": 63,
     "metadata": {},
     "output_type": "execute_result"
    }
   ],
   "source": [
    "df[ 'Exterior 1st' ].value_counts()"
   ]
  },
  {
   "cell_type": "code",
   "execution_count": 64,
   "metadata": {
    "scrolled": true
   },
   "outputs": [],
   "source": [
    "#replace the string value with 0\n",
    "df[ 'Exterior 1st' ].replace({'PreCast':0}, inplace=True)"
   ]
  },
  {
   "cell_type": "code",
   "execution_count": 65,
   "metadata": {},
   "outputs": [
    {
     "data": {
      "text/plain": [
       "199250.0    302\n",
       "132250.0    144\n",
       "153500.0    142\n",
       "136500.0    119\n",
       "152500.0     69\n",
       "236500.0     35\n",
       "159750.0     24\n",
       "136000.0     16\n",
       "111500.0     11\n",
       "134716.0     11\n",
       "158000.0      3\n",
       "0.0           1\n",
       "82375.0       1\n",
       "Name: Exterior 1st, dtype: int64"
      ]
     },
     "execution_count": 65,
     "metadata": {},
     "output_type": "execute_result"
    }
   ],
   "source": [
    "df[ 'Exterior 1st' ].value_counts()"
   ]
  },
  {
   "cell_type": "code",
   "execution_count": 66,
   "metadata": {},
   "outputs": [
    {
     "name": "stdout",
     "output_type": "stream",
     "text": [
      "<class 'pandas.core.frame.DataFrame'>\n",
      "RangeIndex: 878 entries, 0 to 877\n",
      "Data columns (total 16 columns):\n",
      " #   Column          Non-Null Count  Dtype  \n",
      "---  ------          --------------  -----  \n",
      " 0   Heating QC      878 non-null    float64\n",
      " 1   MS SubClass     878 non-null    float64\n",
      " 2   Garage Finish   878 non-null    float64\n",
      " 3   Open Porch SF   878 non-null    int64  \n",
      " 4   Total Bsmt SF   878 non-null    int64  \n",
      " 5   Bsmt Exposure   878 non-null    float64\n",
      " 6   Fireplaces      878 non-null    int64  \n",
      " 7   Exterior 1st    878 non-null    float64\n",
      " 8   Gr Liv Area     878 non-null    int64  \n",
      " 9   BsmtFin Type 1  878 non-null    float64\n",
      " 10  Overall Cond    878 non-null    float64\n",
      " 11  Garage Cars     878 non-null    int64  \n",
      " 12  BsmtFin SF 1    878 non-null    int64  \n",
      " 13  Foundation      878 non-null    float64\n",
      " 14  Mas Vnr Area    878 non-null    float64\n",
      " 15  Overall Qual    878 non-null    float64\n",
      "dtypes: float64(10), int64(6)\n",
      "memory usage: 109.9 KB\n"
     ]
    }
   ],
   "source": [
    "df[features_final].info()"
   ]
  },
  {
   "cell_type": "code",
   "execution_count": 67,
   "metadata": {},
   "outputs": [
    {
     "name": "stdout",
     "output_type": "stream",
     "text": [
      "All features required by our model have been cleaned and encoded\n"
     ]
    }
   ],
   "source": [
    "print(\"All features required by our model have been cleaned and encoded\")\n"
   ]
  },
  {
   "cell_type": "markdown",
   "metadata": {},
   "source": [
    "# 4. calculate y_pred and ouput submission"
   ]
  },
  {
   "cell_type": "markdown",
   "metadata": {},
   "source": [
    "### calculate y_pred"
   ]
  },
  {
   "cell_type": "code",
   "execution_count": 68,
   "metadata": {},
   "outputs": [
    {
     "data": {
      "text/plain": [
       "<AxesSubplot:xlabel='SalePrice', ylabel='Count'>"
      ]
     },
     "execution_count": 68,
     "metadata": {},
     "output_type": "execute_result"
    },
    {
     "data": {
      "image/png": "[encoded data removed]",
      "text/plain": [
       "<Figure size 432x288 with 1 Axes>"
      ]
     },
     "metadata": {
      "needs_background": "light"
     },
     "output_type": "display_data"
    }
   ],
   "source": [
    "X = df[features_final]\n",
    "df['SalePrice'] =gs.predict(X)\n",
    "sns.histplot(df['SalePrice'])"
   ]
  },
  {
   "cell_type": "markdown",
   "metadata": {},
   "source": [
    "### output with correct format"
   ]
  },
  {
   "cell_type": "code",
   "execution_count": 69,
   "metadata": {},
   "outputs": [],
   "source": [
    "df_submission = df.loc[:,['Id','SalePrice']]"
   ]
  },
  {
   "cell_type": "code",
   "execution_count": 70,
   "metadata": {},
   "outputs": [
    {
     "data": {
      "text/html": [
       "<div>\n",
       "<style scoped>\n",
       "    .dataframe tbody tr th:only-of-type {\n",
       "        vertical-align: middle;\n",
       "    }\n",
       "\n",
       "    .dataframe tbody tr th {\n",
       "        vertical-align: top;\n",
       "    }\n",
       "\n",
       "    .dataframe thead th {\n",
       "        text-align: right;\n",
       "    }\n",
       "</style>\n",
       "<table border=\"1\" class=\"dataframe\">\n",
       "  <thead>\n",
       "    <tr style=\"text-align: right;\">\n",
       "      <th></th>\n",
       "      <th>Id</th>\n",
       "      <th>SalePrice</th>\n",
       "    </tr>\n",
       "  </thead>\n",
       "  <tbody>\n",
       "    <tr>\n",
       "      <th>0</th>\n",
       "      <td>2658</td>\n",
       "      <td>157280.647802</td>\n",
       "    </tr>\n",
       "    <tr>\n",
       "      <th>1</th>\n",
       "      <td>2718</td>\n",
       "      <td>176303.071478</td>\n",
       "    </tr>\n",
       "    <tr>\n",
       "      <th>2</th>\n",
       "      <td>2414</td>\n",
       "      <td>201082.733038</td>\n",
       "    </tr>\n",
       "    <tr>\n",
       "      <th>3</th>\n",
       "      <td>1989</td>\n",
       "      <td>108350.234364</td>\n",
       "    </tr>\n",
       "    <tr>\n",
       "      <th>4</th>\n",
       "      <td>625</td>\n",
       "      <td>186278.203034</td>\n",
       "    </tr>\n",
       "    <tr>\n",
       "      <th>...</th>\n",
       "      <td>...</td>\n",
       "      <td>...</td>\n",
       "    </tr>\n",
       "    <tr>\n",
       "      <th>95</th>\n",
       "      <td>1991</td>\n",
       "      <td>149101.452070</td>\n",
       "    </tr>\n",
       "    <tr>\n",
       "      <th>96</th>\n",
       "      <td>1411</td>\n",
       "      <td>164580.754726</td>\n",
       "    </tr>\n",
       "    <tr>\n",
       "      <th>97</th>\n",
       "      <td>1721</td>\n",
       "      <td>242989.781194</td>\n",
       "    </tr>\n",
       "    <tr>\n",
       "      <th>98</th>\n",
       "      <td>1144</td>\n",
       "      <td>182605.210014</td>\n",
       "    </tr>\n",
       "    <tr>\n",
       "      <th>99</th>\n",
       "      <td>593</td>\n",
       "      <td>238419.486077</td>\n",
       "    </tr>\n",
       "  </tbody>\n",
       "</table>\n",
       "<p>100 rows × 2 columns</p>\n",
       "</div>"
      ],
      "text/plain": [
       "      Id      SalePrice\n",
       "0   2658  157280.647802\n",
       "1   2718  176303.071478\n",
       "2   2414  201082.733038\n",
       "3   1989  108350.234364\n",
       "4    625  186278.203034\n",
       "..   ...            ...\n",
       "95  1991  149101.452070\n",
       "96  1411  164580.754726\n",
       "97  1721  242989.781194\n",
       "98  1144  182605.210014\n",
       "99   593  238419.486077\n",
       "\n",
       "[100 rows x 2 columns]"
      ]
     },
     "execution_count": 70,
     "metadata": {},
     "output_type": "execute_result"
    }
   ],
   "source": [
    "df_submission.head(100)"
   ]
  },
  {
   "cell_type": "code",
   "execution_count": 71,
   "metadata": {},
   "outputs": [],
   "source": [
    "df_submission.to_csv(\"../datasets/submission.csv\",index=False)"
   ]
  },
  {
   "cell_type": "code",
   "execution_count": null,
   "metadata": {},
   "outputs": [],
   "source": []
  },
  {
   "cell_type": "code",
   "execution_count": null,
   "metadata": {},
   "outputs": [],
   "source": []
  }
 ],
 "metadata": {
  "anaconda-cloud": {},
  "kernelspec": {
   "display_name": "Python 3 (ipykernel)",
   "language": "python",
   "name": "python3"
  },
  "language_info": {
   "codemirror_mode": {
    "name": "ipython",
    "version": 3
   },
   "file_extension": ".py",
   "mimetype": "text/x-python",
   "name": "python",
   "nbconvert_exporter": "python",
   "pygments_lexer": "ipython3",
   "version": "3.9.7"
  }
 },
 "nbformat": 4,
 "nbformat_minor": 4
}
